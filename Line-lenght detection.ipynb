{
 "cells": [
  {
   "cell_type": "markdown",
   "metadata": {},
   "source": [
    "# Line-lenght detection\n",
    "## Loading signal\n",
    "### Importing data"
   ]
  },
  {
   "cell_type": "code",
   "execution_count": 18,
   "metadata": {
    "collapsed": false
   },
   "outputs": [],
   "source": [
    "from pyhfo_detect.io import data_feeder, add_metadata\n",
    "from pyhfo_detect.io.data_operations import create_output_df\n",
    "from pyhfo_detect.core import ll_detect\n",
    "from scipy.signal import butter, filtfilt\n",
    "from pyhfo_detect.thresholds import *\n",
    "from pyhfo_detect.signal_transform import *\n",
    "from pyhfo_detect.feature_extraction import *\n",
    "\n",
    "import os\n",
    "import pyhfo_detect\n",
    "import matplotlib.pyplot as plt\n",
    "import numpy as np\n",
    "\n",
    "%matplotlib inline"
   ]
  },
  {
   "cell_type": "markdown",
   "metadata": {},
   "source": [
    "### Founding path to signal"
   ]
  },
  {
   "cell_type": "code",
   "execution_count": 19,
   "metadata": {
    "collapsed": false
   },
   "outputs": [],
   "source": [
    "file_path = '/mnt/BME_shared/raw_data/SEEG/seeg-032-141008/Easrec_ic_exp-032_141008-0929.d'"
   ]
  },
  {
   "cell_type": "markdown",
   "metadata": {},
   "source": [
    "### Getting data"
   ]
  },
  {
   "cell_type": "code",
   "execution_count": 20,
   "metadata": {
    "collapsed": false
   },
   "outputs": [],
   "source": [
    "data,fs = data_feeder(file_path, 0, 50000, \"B'1\")"
   ]
  },
  {
   "cell_type": "markdown",
   "metadata": {},
   "source": [
    "#### Plotting data"
   ]
  },
  {
   "cell_type": "code",
   "execution_count": 21,
   "metadata": {
    "collapsed": false
   },
   "outputs": [
    {
     "data": {
      "text/plain": [
       "[<matplotlib.lines.Line2D at 0x7fac64bf1668>]"
      ]
     },
     "execution_count": 21,
     "metadata": {},
     "output_type": "execute_result"
    },
    {
     "data": {
      "image/png": "[encoded data removed]",
      "text/plain": [
       "<matplotlib.figure.Figure at 0x7fac64cc4e80>"
      ]
     },
     "metadata": {},
     "output_type": "display_data"
    }
   ],
   "source": [
    "plt.plot(data)"
   ]
  },
  {
   "cell_type": "markdown",
   "metadata": {},
   "source": [
    "### Metadata"
   ]
  },
  {
   "cell_type": "code",
   "execution_count": 22,
   "metadata": {
    "collapsed": true
   },
   "outputs": [],
   "source": [
    "met_dat = {'channel_name':\"B'1\", 'pat_id':'12'}"
   ]
  },
  {
   "cell_type": "markdown",
   "metadata": {},
   "source": [
    "### Line-lenght detection"
   ]
  },
  {
   "cell_type": "code",
   "execution_count": 23,
   "metadata": {
    "collapsed": false
   },
   "outputs": [],
   "source": [
    "LL_df = ll_detect(data, fs, 80, 600, 1, 0.1, 0.25)\n",
    "# def ll_detect(data, fs, low_fc, high_fc,threshold, window_size, window_overlap): \n",
    "# returns df_out"
   ]
  },
  {
   "cell_type": "markdown",
   "metadata": {},
   "source": [
    "#### Start of function line-lenght\n",
    "##### Line-length detection algorithm and its variants.\n",
    "Line-length detection algorithm. (CITATIONS)\n",
    "    \n",
    "\n",
    "Parameters:\n",
    "<ul>    \n",
    "<li>data(1-d numpy array) - raw data</li>\n",
    "<li>fs(int) - sampling frequency</li>\n",
    "<li>low_fc(float) - low cut-off frequency</li>\n",
    "<li>high_fc(float) - high cut-off frequency</li>\n",
    "<li>window_size(float) - sliding window size in secs</li>\n",
    "<li>window_overlap(float) - fraction of the window overlap (0 to 1)</li>\n",
    "</ul>    \n",
    "\n",
    "Returns:\n",
    "<ul>\n",
    "<li>df_out(pandas.DataFrame) - output dataframe with detections</li>\n",
    "</ul>\n",
    "\n",
    "##### Definition of variables"
   ]
  },
  {
   "cell_type": "code",
   "execution_count": 24,
   "metadata": {
    "collapsed": true
   },
   "outputs": [],
   "source": [
    "low_fc = 80\n",
    "high_fc = 600\n",
    "threshold = 1\n",
    "window_size = 0.1\n",
    "window_overlap = 0.25"
   ]
  },
  {
   "cell_type": "markdown",
   "metadata": {},
   "source": [
    "##### Calculating window values"
   ]
  },
  {
   "cell_type": "code",
   "execution_count": 25,
   "metadata": {
    "collapsed": false
   },
   "outputs": [],
   "source": [
    "samp_win_size = int(window_size*fs) # Window size in samples\n",
    "samp_win_inc = int(samp_win_size*window_overlap) # Window increment in samples"
   ]
  },
  {
   "cell_type": "markdown",
   "metadata": {},
   "source": [
    "##### Creating output dataframe"
   ]
  },
  {
   "cell_type": "code",
   "execution_count": 26,
   "metadata": {
    "collapsed": false
   },
   "outputs": [],
   "source": [
    "df_out = create_output_df()"
   ]
  },
  {
   "cell_type": "markdown",
   "metadata": {},
   "source": [
    "##### Filtering data"
   ]
  },
  {
   "cell_type": "code",
   "execution_count": 27,
   "metadata": {
    "collapsed": false
   },
   "outputs": [],
   "source": [
    "b, a = butter (3,[low_fc/(fs/2), high_fc/(fs/2)], 'bandpass')\n",
    "filt_data = filtfilt(b, a, data)    "
   ]
  },
  {
   "cell_type": "markdown",
   "metadata": {},
   "source": [
    "###### Plotting filtred data"
   ]
  },
  {
   "cell_type": "code",
   "execution_count": 28,
   "metadata": {
    "collapsed": false
   },
   "outputs": [
    {
     "data": {
      "text/plain": [
       "[<matplotlib.lines.Line2D at 0x7fac64c1e7f0>]"
      ]
     },
     "execution_count": 28,
     "metadata": {},
     "output_type": "execute_result"
    },
    {
     "data": {
      "image/png": "[encoded data removed]",
      "text/plain": [
       "<matplotlib.figure.Figure at 0x7fac64c62dd8>"
      ]
     },
     "metadata": {},
     "output_type": "display_data"
    }
   ],
   "source": [
    "plt.plot(filt_data)"
   ]
  },
  {
   "cell_type": "markdown",
   "metadata": {},
   "source": [
    "##### Overlapping window"
   ]
  },
  {
   "cell_type": "code",
   "execution_count": 29,
   "metadata": {
    "collapsed": false
   },
   "outputs": [],
   "source": [
    "win_start = 0\n",
    "win_stop = window_size*fs\n",
    "LL = []\n",
    "while win_start < len(filt_data):\n",
    "    if win_stop > len(filt_data):\n",
    "        win_stop = len(filt_data)\n",
    "            \n",
    "    \n",
    "    LL.append(extract_line_lenght(filt_data[int(win_start):int(win_stop)]))\n",
    "        \n",
    "    win_start += samp_win_inc\n",
    "    win_stop += samp_win_inc\n",
    "    "
   ]
  },
  {
   "cell_type": "markdown",
   "metadata": {},
   "source": [
    "##### Creating treshold"
   ]
  },
  {
   "cell_type": "code",
   "execution_count": 32,
   "metadata": {
    "collapsed": true
   },
   "outputs": [],
   "source": [
    "det_th = th_std(LL,threshold)"
   ]
  },
  {
   "cell_type": "markdown",
   "metadata": {},
   "source": [
    "##### Detection"
   ]
  },
  {
   "cell_type": "code",
   "execution_count": 33,
   "metadata": {
    "collapsed": false
   },
   "outputs": [],
   "source": [
    "LL_idx=0\n",
    "df_idx=0\n",
    "while LL_idx < len(LL):\n",
    "    if LL[LL_idx] >= det_th:\n",
    "        event_start = LL_idx * samp_win_inc\n",
    "        while LL_idx < len(LL) and LL[LL_idx] >= det_th:\n",
    "                LL_idx += 1\n",
    "        event_stop = (LL_idx * samp_win_inc)+samp_win_size\n",
    "           \n",
    "        if event_stop > len(data):\n",
    "            event_stop = len(data)\n",
    "        \n",
    "        # Optional feature calculations can go here\n",
    "\n",
    "        # Write into dataframe\n",
    "        df_out.loc[df_idx] = [event_start, event_stop]\n",
    "        df_idx += 1\n",
    "\n",
    "        LL_idx += 1\n",
    "    else:\n",
    "        LL_idx += 1\n",
    "    \n",
    "# return df_out"
   ]
  },
  {
   "cell_type": "markdown",
   "metadata": {},
   "source": [
    "#### End of function line-lenght\n",
    "#### Adding metadata"
   ]
  },
  {
   "cell_type": "code",
   "execution_count": 34,
   "metadata": {
    "collapsed": true
   },
   "outputs": [],
   "source": [
    "LL_df = add_metadata(LL_df,met_dat)"
   ]
  },
  {
   "cell_type": "markdown",
   "metadata": {},
   "source": [
    "#### Optional rearaging of columns"
   ]
  },
  {
   "cell_type": "code",
   "execution_count": 35,
   "metadata": {
    "collapsed": true
   },
   "outputs": [],
   "source": [
    "LL_df = LL_df.loc[:,['pat_id','channel_name','event_start','event_stop']]"
   ]
  },
  {
   "cell_type": "markdown",
   "metadata": {},
   "source": [
    "#### Plotting the detections in signal"
   ]
  },
  {
   "cell_type": "code",
   "execution_count": 36,
   "metadata": {
    "collapsed": false
   },
   "outputs": [
    {
     "data": {
      "image/png": "[encoded data removed]",
      "text/plain": [
       "<matplotlib.figure.Figure at 0x7fac64bc8588>"
      ]
     },
     "metadata": {},
     "output_type": "display_data"
    }
   ],
   "source": [
    "plt.plot(data)\n",
    "for row in LL_df.iterrows():\n",
    "    det_size = row[1].event_stop-row[1].event_start\n",
    "    plt.plot(np.linspace(row[1].event_start,row[1].event_stop,det_size,endpoint=False),\n",
    "             data[row[1].event_start:row[1].event_stop],'r-')"
   ]
  },
  {
   "cell_type": "code",
   "execution_count": null,
   "metadata": {
    "collapsed": true
   },
   "outputs": [],
   "source": []
  },
  {
   "cell_type": "code",
   "execution_count": null,
   "metadata": {
    "collapsed": true
   },
   "outputs": [],
   "source": []
  }
 ],
 "metadata": {
  "kernelspec": {
   "display_name": "Python 3",
   "language": "python",
   "name": "python3"
  },
  "language_info": {
   "codemirror_mode": {
    "name": "ipython",
    "version": 3
   },
   "file_extension": ".py",
   "mimetype": "text/x-python",
   "name": "python",
   "nbconvert_exporter": "python",
   "pygments_lexer": "ipython3",
   "version": "3.4.3"
  }
 },
 "nbformat": 4,
 "nbformat_minor": 0
}
